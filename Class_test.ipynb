{
  "nbformat": 4,
  "nbformat_minor": 0,
  "metadata": {
    "colab": {
      "provenance": [],
      "authorship_tag": "ABX9TyPikS5ekwKeTl02vvnl/jCh",
      "include_colab_link": true
    },
    "kernelspec": {
      "name": "python3",
      "display_name": "Python 3"
    },
    "language_info": {
      "name": "python"
    }
  },
  "cells": [
    {
      "cell_type": "markdown",
      "metadata": {
        "id": "view-in-github",
        "colab_type": "text"
      },
      "source": [
        "<a href=\"https://colab.research.google.com/github/akshit2801/DLNLP/blob/main/Class_test.ipynb\" target=\"_parent\"><img src=\"https://colab.research.google.com/assets/colab-badge.svg\" alt=\"Open In Colab\"/></a>"
      ]
    },
    {
      "cell_type": "code",
      "source": [
        "# Call libraries\n",
        "import pandas as pd\n",
        "import numpy as np\n",
        "from  pathlib import Path\n",
        "\n",
        "import tensorflow as tf\n",
        "from tensorflow import keras\n",
        "from tensorflow.keras import layers\n",
        "\n",
        "from sklearn.preprocessing import StandardScaler\n",
        "from sklearn.model_selection import train_test_split"
      ],
      "metadata": {
        "id": "qPisgSAulAKW"
      },
      "execution_count": 1,
      "outputs": []
    },
    {
      "cell_type": "code",
      "source": [
        "# Display multiple commands output from a cell\n",
        "from IPython.core.interactiveshell import InteractiveShell\n",
        "InteractiveShell.ast_node_interactivity = \"all\""
      ],
      "metadata": {
        "id": "ztHRRMcXlGYm"
      },
      "execution_count": 2,
      "outputs": []
    },
    {
      "cell_type": "code",
      "source": [
        "from google.colab import drive\n",
        "drive.mount('/gdrive')"
      ],
      "metadata": {
        "colab": {
          "base_uri": "https://localhost:8080/"
        },
        "id": "6lCumwTAlOrF",
        "outputId": "91c84b6a-80f4-40e7-9561-c7ef3a41a03d"
      },
      "execution_count": 3,
      "outputs": [
        {
          "output_type": "stream",
          "name": "stdout",
          "text": [
            "Drive already mounted at /gdrive; to attempt to forcibly remount, call drive.mount(\"/gdrive\", force_remount=True).\n"
          ]
        }
      ]
    },
    {
      "cell_type": "code",
      "source": [
        "# Where is our data file:\n",
        "pathToFolder = \"/gdrive/MyDrive/Colab_data_files/deeplearning\""
      ],
      "metadata": {
        "id": "ayKS-ybKkrbk"
      },
      "execution_count": 4,
      "outputs": []
    },
    {
      "cell_type": "code",
      "source": [
        "# Full file path:\n",
        "path = Path(pathToFolder) / \"california_housing_train.csv\""
      ],
      "metadata": {
        "id": "IOU-KjnVj2Pf"
      },
      "execution_count": 5,
      "outputs": []
    },
    {
      "cell_type": "markdown",
      "source": [],
      "metadata": {
        "id": "utfUpPzbklRN"
      }
    },
    {
      "cell_type": "code",
      "source": [
        "# Read data\n",
        "california_housing_train = pd.read_csv(path)\n",
        "california_housing_train.head()"
      ],
      "metadata": {
        "colab": {
          "base_uri": "https://localhost:8080/",
          "height": 206
        },
        "id": "ZHnuW7A9kLOW",
        "outputId": "d0bdcc03-1e8c-4eed-9545-8f5044252831"
      },
      "execution_count": 6,
      "outputs": [
        {
          "output_type": "execute_result",
          "data": {
            "text/plain": [
              "   longitude  latitude  housing_median_age  total_rooms  total_bedrooms  \\\n",
              "0    -114.31     34.19                15.0       5612.0          1283.0   \n",
              "1    -114.47     34.40                19.0       7650.0          1901.0   \n",
              "2    -114.56     33.69                17.0        720.0           174.0   \n",
              "3    -114.57     33.64                14.0       1501.0           337.0   \n",
              "4    -114.57     33.57                20.0       1454.0           326.0   \n",
              "\n",
              "   population  households  median_income  median_house_value  \n",
              "0      1015.0       472.0         1.4936             66900.0  \n",
              "1      1129.0       463.0         1.8200             80100.0  \n",
              "2       333.0       117.0         1.6509             85700.0  \n",
              "3       515.0       226.0         3.1917             73400.0  \n",
              "4       624.0       262.0         1.9250             65500.0  "
            ],
            "text/html": [
              "\n",
              "\n",
              "  <div id=\"df-3cb98df2-0f8d-4c6a-90aa-b5a5eb0ada30\">\n",
              "    <div class=\"colab-df-container\">\n",
              "      <div>\n",
              "<style scoped>\n",
              "    .dataframe tbody tr th:only-of-type {\n",
              "        vertical-align: middle;\n",
              "    }\n",
              "\n",
              "    .dataframe tbody tr th {\n",
              "        vertical-align: top;\n",
              "    }\n",
              "\n",
              "    .dataframe thead th {\n",
              "        text-align: right;\n",
              "    }\n",
              "</style>\n",
              "<table border=\"1\" class=\"dataframe\">\n",
              "  <thead>\n",
              "    <tr style=\"text-align: right;\">\n",
              "      <th></th>\n",
              "      <th>longitude</th>\n",
              "      <th>latitude</th>\n",
              "      <th>housing_median_age</th>\n",
              "      <th>total_rooms</th>\n",
              "      <th>total_bedrooms</th>\n",
              "      <th>population</th>\n",
              "      <th>households</th>\n",
              "      <th>median_income</th>\n",
              "      <th>median_house_value</th>\n",
              "    </tr>\n",
              "  </thead>\n",
              "  <tbody>\n",
              "    <tr>\n",
              "      <th>0</th>\n",
              "      <td>-114.31</td>\n",
              "      <td>34.19</td>\n",
              "      <td>15.0</td>\n",
              "      <td>5612.0</td>\n",
              "      <td>1283.0</td>\n",
              "      <td>1015.0</td>\n",
              "      <td>472.0</td>\n",
              "      <td>1.4936</td>\n",
              "      <td>66900.0</td>\n",
              "    </tr>\n",
              "    <tr>\n",
              "      <th>1</th>\n",
              "      <td>-114.47</td>\n",
              "      <td>34.40</td>\n",
              "      <td>19.0</td>\n",
              "      <td>7650.0</td>\n",
              "      <td>1901.0</td>\n",
              "      <td>1129.0</td>\n",
              "      <td>463.0</td>\n",
              "      <td>1.8200</td>\n",
              "      <td>80100.0</td>\n",
              "    </tr>\n",
              "    <tr>\n",
              "      <th>2</th>\n",
              "      <td>-114.56</td>\n",
              "      <td>33.69</td>\n",
              "      <td>17.0</td>\n",
              "      <td>720.0</td>\n",
              "      <td>174.0</td>\n",
              "      <td>333.0</td>\n",
              "      <td>117.0</td>\n",
              "      <td>1.6509</td>\n",
              "      <td>85700.0</td>\n",
              "    </tr>\n",
              "    <tr>\n",
              "      <th>3</th>\n",
              "      <td>-114.57</td>\n",
              "      <td>33.64</td>\n",
              "      <td>14.0</td>\n",
              "      <td>1501.0</td>\n",
              "      <td>337.0</td>\n",
              "      <td>515.0</td>\n",
              "      <td>226.0</td>\n",
              "      <td>3.1917</td>\n",
              "      <td>73400.0</td>\n",
              "    </tr>\n",
              "    <tr>\n",
              "      <th>4</th>\n",
              "      <td>-114.57</td>\n",
              "      <td>33.57</td>\n",
              "      <td>20.0</td>\n",
              "      <td>1454.0</td>\n",
              "      <td>326.0</td>\n",
              "      <td>624.0</td>\n",
              "      <td>262.0</td>\n",
              "      <td>1.9250</td>\n",
              "      <td>65500.0</td>\n",
              "    </tr>\n",
              "  </tbody>\n",
              "</table>\n",
              "</div>\n",
              "      <button class=\"colab-df-convert\" onclick=\"convertToInteractive('df-3cb98df2-0f8d-4c6a-90aa-b5a5eb0ada30')\"\n",
              "              title=\"Convert this dataframe to an interactive table.\"\n",
              "              style=\"display:none;\">\n",
              "\n",
              "  <svg xmlns=\"http://www.w3.org/2000/svg\" height=\"24px\"viewBox=\"0 0 24 24\"\n",
              "       width=\"24px\">\n",
              "    <path d=\"M0 0h24v24H0V0z\" fill=\"none\"/>\n",
              "    <path d=\"M18.56 5.44l.94 2.06.94-2.06 2.06-.94-2.06-.94-.94-2.06-.94 2.06-2.06.94zm-11 1L8.5 8.5l.94-2.06 2.06-.94-2.06-.94L8.5 2.5l-.94 2.06-2.06.94zm10 10l.94 2.06.94-2.06 2.06-.94-2.06-.94-.94-2.06-.94 2.06-2.06.94z\"/><path d=\"M17.41 7.96l-1.37-1.37c-.4-.4-.92-.59-1.43-.59-.52 0-1.04.2-1.43.59L10.3 9.45l-7.72 7.72c-.78.78-.78 2.05 0 2.83L4 21.41c.39.39.9.59 1.41.59.51 0 1.02-.2 1.41-.59l7.78-7.78 2.81-2.81c.8-.78.8-2.07 0-2.86zM5.41 20L4 18.59l7.72-7.72 1.47 1.35L5.41 20z\"/>\n",
              "  </svg>\n",
              "      </button>\n",
              "\n",
              "\n",
              "\n",
              "    <div id=\"df-1b6de7a7-795c-4fd3-ba68-f406e3942580\">\n",
              "      <button class=\"colab-df-quickchart\" onclick=\"quickchart('df-1b6de7a7-795c-4fd3-ba68-f406e3942580')\"\n",
              "              title=\"Suggest charts.\"\n",
              "              style=\"display:none;\">\n",
              "\n",
              "<svg xmlns=\"http://www.w3.org/2000/svg\" height=\"24px\"viewBox=\"0 0 24 24\"\n",
              "     width=\"24px\">\n",
              "    <g>\n",
              "        <path d=\"M19 3H5c-1.1 0-2 .9-2 2v14c0 1.1.9 2 2 2h14c1.1 0 2-.9 2-2V5c0-1.1-.9-2-2-2zM9 17H7v-7h2v7zm4 0h-2V7h2v10zm4 0h-2v-4h2v4z\"/>\n",
              "    </g>\n",
              "</svg>\n",
              "      </button>\n",
              "    </div>\n",
              "\n",
              "<style>\n",
              "  .colab-df-quickchart {\n",
              "    background-color: #E8F0FE;\n",
              "    border: none;\n",
              "    border-radius: 50%;\n",
              "    cursor: pointer;\n",
              "    display: none;\n",
              "    fill: #1967D2;\n",
              "    height: 32px;\n",
              "    padding: 0 0 0 0;\n",
              "    width: 32px;\n",
              "  }\n",
              "\n",
              "  .colab-df-quickchart:hover {\n",
              "    background-color: #E2EBFA;\n",
              "    box-shadow: 0px 1px 2px rgba(60, 64, 67, 0.3), 0px 1px 3px 1px rgba(60, 64, 67, 0.15);\n",
              "    fill: #174EA6;\n",
              "  }\n",
              "\n",
              "  [theme=dark] .colab-df-quickchart {\n",
              "    background-color: #3B4455;\n",
              "    fill: #D2E3FC;\n",
              "  }\n",
              "\n",
              "  [theme=dark] .colab-df-quickchart:hover {\n",
              "    background-color: #434B5C;\n",
              "    box-shadow: 0px 1px 3px 1px rgba(0, 0, 0, 0.15);\n",
              "    filter: drop-shadow(0px 1px 2px rgba(0, 0, 0, 0.3));\n",
              "    fill: #FFFFFF;\n",
              "  }\n",
              "</style>\n",
              "\n",
              "    <script>\n",
              "      async function quickchart(key) {\n",
              "        const containerElement = document.querySelector('#' + key);\n",
              "        const charts = await google.colab.kernel.invokeFunction(\n",
              "            'suggestCharts', [key], {});\n",
              "      }\n",
              "    </script>\n",
              "\n",
              "      <script>\n",
              "\n",
              "function displayQuickchartButton(domScope) {\n",
              "  let quickchartButtonEl =\n",
              "    domScope.querySelector('#df-1b6de7a7-795c-4fd3-ba68-f406e3942580 button.colab-df-quickchart');\n",
              "  quickchartButtonEl.style.display =\n",
              "    google.colab.kernel.accessAllowed ? 'block' : 'none';\n",
              "}\n",
              "\n",
              "        displayQuickchartButton(document);\n",
              "      </script>\n",
              "      <style>\n",
              "    .colab-df-container {\n",
              "      display:flex;\n",
              "      flex-wrap:wrap;\n",
              "      gap: 12px;\n",
              "    }\n",
              "\n",
              "    .colab-df-convert {\n",
              "      background-color: #E8F0FE;\n",
              "      border: none;\n",
              "      border-radius: 50%;\n",
              "      cursor: pointer;\n",
              "      display: none;\n",
              "      fill: #1967D2;\n",
              "      height: 32px;\n",
              "      padding: 0 0 0 0;\n",
              "      width: 32px;\n",
              "    }\n",
              "\n",
              "    .colab-df-convert:hover {\n",
              "      background-color: #E2EBFA;\n",
              "      box-shadow: 0px 1px 2px rgba(60, 64, 67, 0.3), 0px 1px 3px 1px rgba(60, 64, 67, 0.15);\n",
              "      fill: #174EA6;\n",
              "    }\n",
              "\n",
              "    [theme=dark] .colab-df-convert {\n",
              "      background-color: #3B4455;\n",
              "      fill: #D2E3FC;\n",
              "    }\n",
              "\n",
              "    [theme=dark] .colab-df-convert:hover {\n",
              "      background-color: #434B5C;\n",
              "      box-shadow: 0px 1px 3px 1px rgba(0, 0, 0, 0.15);\n",
              "      filter: drop-shadow(0px 1px 2px rgba(0, 0, 0, 0.3));\n",
              "      fill: #FFFFFF;\n",
              "    }\n",
              "  </style>\n",
              "\n",
              "      <script>\n",
              "        const buttonEl =\n",
              "          document.querySelector('#df-3cb98df2-0f8d-4c6a-90aa-b5a5eb0ada30 button.colab-df-convert');\n",
              "        buttonEl.style.display =\n",
              "          google.colab.kernel.accessAllowed ? 'block' : 'none';\n",
              "\n",
              "        async function convertToInteractive(key) {\n",
              "          const element = document.querySelector('#df-3cb98df2-0f8d-4c6a-90aa-b5a5eb0ada30');\n",
              "          const dataTable =\n",
              "            await google.colab.kernel.invokeFunction('convertToInteractive',\n",
              "                                                     [key], {});\n",
              "          if (!dataTable) return;\n",
              "\n",
              "          const docLinkHtml = 'Like what you see? Visit the ' +\n",
              "            '<a target=\"_blank\" href=https://colab.research.google.com/notebooks/data_table.ipynb>data table notebook</a>'\n",
              "            + ' to learn more about interactive tables.';\n",
              "          element.innerHTML = '';\n",
              "          dataTable['output_type'] = 'display_data';\n",
              "          await google.colab.output.renderOutput(dataTable, element);\n",
              "          const docLink = document.createElement('div');\n",
              "          docLink.innerHTML = docLinkHtml;\n",
              "          element.appendChild(docLink);\n",
              "        }\n",
              "      </script>\n",
              "    </div>\n",
              "  </div>\n"
            ]
          },
          "metadata": {},
          "execution_count": 6
        }
      ]
    },
    {
      "cell_type": "code",
      "source": [
        "california_housing_train.shape"
      ],
      "metadata": {
        "colab": {
          "base_uri": "https://localhost:8080/"
        },
        "id": "N5Fg_-x5mDta",
        "outputId": "1e007f29-a391-4475-97d7-3952026229e0"
      },
      "execution_count": 7,
      "outputs": [
        {
          "output_type": "execute_result",
          "data": {
            "text/plain": [
              "(17000, 9)"
            ]
          },
          "metadata": {},
          "execution_count": 7
        }
      ]
    },
    {
      "cell_type": "code",
      "source": [
        "california_housing_train.dtypes"
      ],
      "metadata": {
        "colab": {
          "base_uri": "https://localhost:8080/"
        },
        "id": "WOyql71AmLtJ",
        "outputId": "a5d304c7-514a-4b0e-c9ff-844ea1fc95fc"
      },
      "execution_count": 8,
      "outputs": [
        {
          "output_type": "execute_result",
          "data": {
            "text/plain": [
              "longitude             float64\n",
              "latitude              float64\n",
              "housing_median_age    float64\n",
              "total_rooms           float64\n",
              "total_bedrooms        float64\n",
              "population            float64\n",
              "households            float64\n",
              "median_income         float64\n",
              "median_house_value    float64\n",
              "dtype: object"
            ]
          },
          "metadata": {},
          "execution_count": 8
        }
      ]
    },
    {
      "cell_type": "code",
      "source": [
        "california_housing_train.isnull().sum()"
      ],
      "metadata": {
        "colab": {
          "base_uri": "https://localhost:8080/"
        },
        "id": "MmKYuUdIpUig",
        "outputId": "101878c2-803d-4779-aa4b-94a8f0e5f639"
      },
      "execution_count": 9,
      "outputs": [
        {
          "output_type": "execute_result",
          "data": {
            "text/plain": [
              "longitude             0\n",
              "latitude              0\n",
              "housing_median_age    0\n",
              "total_rooms           0\n",
              "total_bedrooms        0\n",
              "population            0\n",
              "households            0\n",
              "median_income         0\n",
              "median_house_value    0\n",
              "dtype: int64"
            ]
          },
          "metadata": {},
          "execution_count": 9
        }
      ]
    },
    {
      "cell_type": "code",
      "source": [
        "# Get target and predictors:\n",
        "y = california_housing_train.pop(\"total_rooms\")\n",
        "X = california_housing_train"
      ],
      "metadata": {
        "id": "HhRwJ6p8mNWp"
      },
      "execution_count": 10,
      "outputs": []
    },
    {
      "cell_type": "code",
      "source": [
        "# Scale data\n",
        "ss = StandardScaler()\n",
        "ss.fit(california_housing_train)\n",
        "X = ss.transform(california_housing_train)"
      ],
      "metadata": {
        "colab": {
          "base_uri": "https://localhost:8080/",
          "height": 75
        },
        "id": "jgBM5chkqKgF",
        "outputId": "d7cabca1-cb0a-43df-b5cf-bf38a3a7dd5a"
      },
      "execution_count": 11,
      "outputs": [
        {
          "output_type": "execute_result",
          "data": {
            "text/plain": [
              "StandardScaler()"
            ],
            "text/html": [
              "<style>#sk-container-id-1 {color: black;background-color: white;}#sk-container-id-1 pre{padding: 0;}#sk-container-id-1 div.sk-toggleable {background-color: white;}#sk-container-id-1 label.sk-toggleable__label {cursor: pointer;display: block;width: 100%;margin-bottom: 0;padding: 0.3em;box-sizing: border-box;text-align: center;}#sk-container-id-1 label.sk-toggleable__label-arrow:before {content: \"▸\";float: left;margin-right: 0.25em;color: #696969;}#sk-container-id-1 label.sk-toggleable__label-arrow:hover:before {color: black;}#sk-container-id-1 div.sk-estimator:hover label.sk-toggleable__label-arrow:before {color: black;}#sk-container-id-1 div.sk-toggleable__content {max-height: 0;max-width: 0;overflow: hidden;text-align: left;background-color: #f0f8ff;}#sk-container-id-1 div.sk-toggleable__content pre {margin: 0.2em;color: black;border-radius: 0.25em;background-color: #f0f8ff;}#sk-container-id-1 input.sk-toggleable__control:checked~div.sk-toggleable__content {max-height: 200px;max-width: 100%;overflow: auto;}#sk-container-id-1 input.sk-toggleable__control:checked~label.sk-toggleable__label-arrow:before {content: \"▾\";}#sk-container-id-1 div.sk-estimator input.sk-toggleable__control:checked~label.sk-toggleable__label {background-color: #d4ebff;}#sk-container-id-1 div.sk-label input.sk-toggleable__control:checked~label.sk-toggleable__label {background-color: #d4ebff;}#sk-container-id-1 input.sk-hidden--visually {border: 0;clip: rect(1px 1px 1px 1px);clip: rect(1px, 1px, 1px, 1px);height: 1px;margin: -1px;overflow: hidden;padding: 0;position: absolute;width: 1px;}#sk-container-id-1 div.sk-estimator {font-family: monospace;background-color: #f0f8ff;border: 1px dotted black;border-radius: 0.25em;box-sizing: border-box;margin-bottom: 0.5em;}#sk-container-id-1 div.sk-estimator:hover {background-color: #d4ebff;}#sk-container-id-1 div.sk-parallel-item::after {content: \"\";width: 100%;border-bottom: 1px solid gray;flex-grow: 1;}#sk-container-id-1 div.sk-label:hover label.sk-toggleable__label {background-color: #d4ebff;}#sk-container-id-1 div.sk-serial::before {content: \"\";position: absolute;border-left: 1px solid gray;box-sizing: border-box;top: 0;bottom: 0;left: 50%;z-index: 0;}#sk-container-id-1 div.sk-serial {display: flex;flex-direction: column;align-items: center;background-color: white;padding-right: 0.2em;padding-left: 0.2em;position: relative;}#sk-container-id-1 div.sk-item {position: relative;z-index: 1;}#sk-container-id-1 div.sk-parallel {display: flex;align-items: stretch;justify-content: center;background-color: white;position: relative;}#sk-container-id-1 div.sk-item::before, #sk-container-id-1 div.sk-parallel-item::before {content: \"\";position: absolute;border-left: 1px solid gray;box-sizing: border-box;top: 0;bottom: 0;left: 50%;z-index: -1;}#sk-container-id-1 div.sk-parallel-item {display: flex;flex-direction: column;z-index: 1;position: relative;background-color: white;}#sk-container-id-1 div.sk-parallel-item:first-child::after {align-self: flex-end;width: 50%;}#sk-container-id-1 div.sk-parallel-item:last-child::after {align-self: flex-start;width: 50%;}#sk-container-id-1 div.sk-parallel-item:only-child::after {width: 0;}#sk-container-id-1 div.sk-dashed-wrapped {border: 1px dashed gray;margin: 0 0.4em 0.5em 0.4em;box-sizing: border-box;padding-bottom: 0.4em;background-color: white;}#sk-container-id-1 div.sk-label label {font-family: monospace;font-weight: bold;display: inline-block;line-height: 1.2em;}#sk-container-id-1 div.sk-label-container {text-align: center;}#sk-container-id-1 div.sk-container {/* jupyter's `normalize.less` sets `[hidden] { display: none; }` but bootstrap.min.css set `[hidden] { display: none !important; }` so we also need the `!important` here to be able to override the default hidden behavior on the sphinx rendered scikit-learn.org. See: https://github.com/scikit-learn/scikit-learn/issues/21755 */display: inline-block !important;position: relative;}#sk-container-id-1 div.sk-text-repr-fallback {display: none;}</style><div id=\"sk-container-id-1\" class=\"sk-top-container\"><div class=\"sk-text-repr-fallback\"><pre>StandardScaler()</pre><b>In a Jupyter environment, please rerun this cell to show the HTML representation or trust the notebook. <br />On GitHub, the HTML representation is unable to render, please try loading this page with nbviewer.org.</b></div><div class=\"sk-container\" hidden><div class=\"sk-item\"><div class=\"sk-estimator sk-toggleable\"><input class=\"sk-toggleable__control sk-hidden--visually\" id=\"sk-estimator-id-1\" type=\"checkbox\" checked><label for=\"sk-estimator-id-1\" class=\"sk-toggleable__label sk-toggleable__label-arrow\">StandardScaler</label><div class=\"sk-toggleable__content\"><pre>StandardScaler()</pre></div></div></div></div></div>"
            ]
          },
          "metadata": {},
          "execution_count": 11
        }
      ]
    },
    {
      "cell_type": "code",
      "source": [
        "# Split data:\n",
        "\n",
        "X_train,X_test,y_train,y_test = train_test_split(X,y, test_size = 0.25)\n",
        "display(X_train.shape)\n",
        "display(X_test.shape)"
      ],
      "metadata": {
        "colab": {
          "base_uri": "https://localhost:8080/",
          "height": 52
        },
        "id": "GMbwZ5WNqOvk",
        "outputId": "12495f2b-0fc1-481c-d427-2046d9b9afe4"
      },
      "execution_count": 12,
      "outputs": [
        {
          "output_type": "display_data",
          "data": {
            "text/plain": [
              "(12750, 8)"
            ]
          },
          "metadata": {}
        },
        {
          "output_type": "display_data",
          "data": {
            "text/plain": [
              "(4250, 8)"
            ]
          },
          "metadata": {}
        }
      ]
    },
    {
      "cell_type": "code",
      "source": [
        "# Build model:\n",
        "\n",
        "model = tf.keras.Sequential()"
      ],
      "metadata": {
        "id": "vVke8Dl-nIXq"
      },
      "execution_count": 13,
      "outputs": []
    },
    {
      "cell_type": "code",
      "source": [
        "X.shape"
      ],
      "metadata": {
        "colab": {
          "base_uri": "https://localhost:8080/"
        },
        "id": "9kQoN-wZnixS",
        "outputId": "021b34f4-7402-4d8f-cb5c-b8dcb8ee43ba"
      },
      "execution_count": 14,
      "outputs": [
        {
          "output_type": "execute_result",
          "data": {
            "text/plain": [
              "(17000, 8)"
            ]
          },
          "metadata": {},
          "execution_count": 14
        }
      ]
    },
    {
      "cell_type": "code",
      "source": [
        "# Input Layer\n",
        "model.add(layers.Input( shape = (8,) ) )"
      ],
      "metadata": {
        "id": "s7ZSZb3inj1x"
      },
      "execution_count": 15,
      "outputs": []
    },
    {
      "cell_type": "code",
      "source": [
        "# Hidden layer 1\n",
        "model.add(tf.keras.layers.Dense(20, activation = 'relu'))"
      ],
      "metadata": {
        "id": "uUa7zTb3noqy"
      },
      "execution_count": 16,
      "outputs": []
    },
    {
      "cell_type": "code",
      "source": [
        "# Hidden layer 2\n",
        "model.add(tf.keras.layers.Dense(20, activation = 'relu'))"
      ],
      "metadata": {
        "id": "wJDEgyV5nooa"
      },
      "execution_count": 17,
      "outputs": []
    },
    {
      "cell_type": "code",
      "source": [
        "# Hidden layer 3\n",
        "model.add(tf.keras.layers.Dense(20, activation = 'relu'))"
      ],
      "metadata": {
        "id": "SnpcjBHznomM"
      },
      "execution_count": 18,
      "outputs": []
    },
    {
      "cell_type": "code",
      "source": [
        "# Output layer\n",
        "model.add(tf.keras.layers.Dense(1, activation = 'sigmoid'))"
      ],
      "metadata": {
        "id": "nbO6sSI7noja"
      },
      "execution_count": 19,
      "outputs": []
    },
    {
      "cell_type": "code",
      "source": [
        "# Model summary:\n",
        "model.summary()"
      ],
      "metadata": {
        "colab": {
          "base_uri": "https://localhost:8080/"
        },
        "id": "gkuOYCiunogi",
        "outputId": "6fa6096d-fc6b-43f3-d1e3-524630eae723"
      },
      "execution_count": 20,
      "outputs": [
        {
          "output_type": "stream",
          "name": "stdout",
          "text": [
            "Model: \"sequential\"\n",
            "_________________________________________________________________\n",
            " Layer (type)                Output Shape              Param #   \n",
            "=================================================================\n",
            " dense (Dense)               (None, 20)                180       \n",
            "                                                                 \n",
            " dense_1 (Dense)             (None, 20)                420       \n",
            "                                                                 \n",
            " dense_2 (Dense)             (None, 20)                420       \n",
            "                                                                 \n",
            " dense_3 (Dense)             (None, 1)                 21        \n",
            "                                                                 \n",
            "=================================================================\n",
            "Total params: 1,041\n",
            "Trainable params: 1,041\n",
            "Non-trainable params: 0\n",
            "_________________________________________________________________\n"
          ]
        }
      ]
    },
    {
      "cell_type": "code",
      "source": [
        "# Compile\n",
        "model.compile( loss = \"mae\")\n",
        "# mae = mean absolute error"
      ],
      "metadata": {
        "id": "Hc73BJyBnodz"
      },
      "execution_count": 21,
      "outputs": []
    },
    {
      "cell_type": "code",
      "source": [
        "# 4.4 Train\n",
        "model.fit(X_train,y_train, epochs = 100 )"
      ],
      "metadata": {
        "colab": {
          "base_uri": "https://localhost:8080/"
        },
        "id": "UnsCqzbPnoaa",
        "outputId": "cfd9b2bf-7793-49db-b594-afa2f26774e9"
      },
      "execution_count": 22,
      "outputs": [
        {
          "output_type": "stream",
          "name": "stdout",
          "text": [
            "Epoch 1/100\n",
            "399/399 [==============================] - 3s 4ms/step - loss: 2631.3330\n",
            "Epoch 2/100\n",
            "399/399 [==============================] - 1s 4ms/step - loss: 2631.2427\n",
            "Epoch 3/100\n",
            "399/399 [==============================] - 2s 6ms/step - loss: 2631.2434\n",
            "Epoch 4/100\n",
            "399/399 [==============================] - 3s 7ms/step - loss: 2631.2437\n",
            "Epoch 5/100\n",
            "399/399 [==============================] - 2s 5ms/step - loss: 2631.2427\n",
            "Epoch 6/100\n",
            "399/399 [==============================] - 2s 4ms/step - loss: 2631.2434\n",
            "Epoch 7/100\n",
            "399/399 [==============================] - 1s 3ms/step - loss: 2631.2441\n",
            "Epoch 8/100\n",
            "399/399 [==============================] - 1s 3ms/step - loss: 2631.2424\n",
            "Epoch 9/100\n",
            "399/399 [==============================] - 1s 3ms/step - loss: 2631.2434\n",
            "Epoch 10/100\n",
            "399/399 [==============================] - 1s 3ms/step - loss: 2631.2429\n",
            "Epoch 11/100\n",
            "399/399 [==============================] - 1s 2ms/step - loss: 2631.2432\n",
            "Epoch 12/100\n",
            "399/399 [==============================] - 1s 2ms/step - loss: 2631.2437\n",
            "Epoch 13/100\n",
            "399/399 [==============================] - 1s 3ms/step - loss: 2631.2429\n",
            "Epoch 14/100\n",
            "399/399 [==============================] - 1s 3ms/step - loss: 2631.2424\n",
            "Epoch 15/100\n",
            "399/399 [==============================] - 1s 2ms/step - loss: 2631.2434\n",
            "Epoch 16/100\n",
            "399/399 [==============================] - 1s 3ms/step - loss: 2631.2412\n",
            "Epoch 17/100\n",
            "399/399 [==============================] - 1s 2ms/step - loss: 2631.2429\n",
            "Epoch 18/100\n",
            "399/399 [==============================] - 1s 2ms/step - loss: 2631.2446\n",
            "Epoch 19/100\n",
            "399/399 [==============================] - 1s 2ms/step - loss: 2631.2424\n",
            "Epoch 20/100\n",
            "399/399 [==============================] - 1s 2ms/step - loss: 2631.2419\n",
            "Epoch 21/100\n",
            "399/399 [==============================] - 1s 2ms/step - loss: 2631.2419\n",
            "Epoch 22/100\n",
            "399/399 [==============================] - 1s 3ms/step - loss: 2631.2427\n",
            "Epoch 23/100\n",
            "399/399 [==============================] - 1s 3ms/step - loss: 2631.2429\n",
            "Epoch 24/100\n",
            "399/399 [==============================] - 1s 4ms/step - loss: 2631.2424\n",
            "Epoch 25/100\n",
            "399/399 [==============================] - 1s 3ms/step - loss: 2631.2427\n",
            "Epoch 26/100\n",
            "399/399 [==============================] - 1s 3ms/step - loss: 2631.2432\n",
            "Epoch 27/100\n",
            "399/399 [==============================] - 2s 5ms/step - loss: 2631.2434\n",
            "Epoch 28/100\n",
            "399/399 [==============================] - 2s 6ms/step - loss: 2631.2424\n",
            "Epoch 29/100\n",
            "399/399 [==============================] - 2s 5ms/step - loss: 2631.2424\n",
            "Epoch 30/100\n",
            "399/399 [==============================] - 2s 5ms/step - loss: 2631.2429\n",
            "Epoch 31/100\n",
            "399/399 [==============================] - 2s 4ms/step - loss: 2631.2419\n",
            "Epoch 32/100\n",
            "399/399 [==============================] - 2s 5ms/step - loss: 2631.2434\n",
            "Epoch 33/100\n",
            "399/399 [==============================] - 2s 5ms/step - loss: 2631.2434\n",
            "Epoch 34/100\n",
            "399/399 [==============================] - 1s 3ms/step - loss: 2631.2434\n",
            "Epoch 35/100\n",
            "399/399 [==============================] - 1s 3ms/step - loss: 2631.2427\n",
            "Epoch 36/100\n",
            "399/399 [==============================] - 2s 5ms/step - loss: 2631.2434\n",
            "Epoch 37/100\n",
            "399/399 [==============================] - 2s 6ms/step - loss: 2631.2437\n",
            "Epoch 38/100\n",
            "399/399 [==============================] - 1s 3ms/step - loss: 2631.2419\n",
            "Epoch 39/100\n",
            "399/399 [==============================] - 1s 2ms/step - loss: 2631.2441\n",
            "Epoch 40/100\n",
            "399/399 [==============================] - 1s 2ms/step - loss: 2631.2424\n",
            "Epoch 41/100\n",
            "399/399 [==============================] - 1s 2ms/step - loss: 2631.2437\n",
            "Epoch 42/100\n",
            "399/399 [==============================] - 1s 2ms/step - loss: 2631.2434\n",
            "Epoch 43/100\n",
            "399/399 [==============================] - 1s 2ms/step - loss: 2631.2419\n",
            "Epoch 44/100\n",
            "399/399 [==============================] - 1s 2ms/step - loss: 2631.2419\n",
            "Epoch 45/100\n",
            "399/399 [==============================] - 1s 2ms/step - loss: 2631.2434\n",
            "Epoch 46/100\n",
            "399/399 [==============================] - 1s 2ms/step - loss: 2631.2427\n",
            "Epoch 47/100\n",
            "399/399 [==============================] - 1s 2ms/step - loss: 2631.2432\n",
            "Epoch 48/100\n",
            "399/399 [==============================] - 1s 2ms/step - loss: 2631.2424\n",
            "Epoch 49/100\n",
            "399/399 [==============================] - 1s 2ms/step - loss: 2631.2419\n",
            "Epoch 50/100\n",
            "399/399 [==============================] - 1s 2ms/step - loss: 2631.2434\n",
            "Epoch 51/100\n",
            "399/399 [==============================] - 1s 2ms/step - loss: 2631.2429\n",
            "Epoch 52/100\n",
            "399/399 [==============================] - 1s 3ms/step - loss: 2631.2419\n",
            "Epoch 53/100\n",
            "399/399 [==============================] - 1s 3ms/step - loss: 2631.2424\n",
            "Epoch 54/100\n",
            "399/399 [==============================] - 1s 3ms/step - loss: 2631.2427\n",
            "Epoch 55/100\n",
            "399/399 [==============================] - 1s 3ms/step - loss: 2631.2419\n",
            "Epoch 56/100\n",
            "399/399 [==============================] - 1s 2ms/step - loss: 2631.2434\n",
            "Epoch 57/100\n",
            "399/399 [==============================] - 1s 2ms/step - loss: 2631.2434\n",
            "Epoch 58/100\n",
            "399/399 [==============================] - 1s 2ms/step - loss: 2631.2427\n",
            "Epoch 59/100\n",
            "399/399 [==============================] - 1s 2ms/step - loss: 2631.2419\n",
            "Epoch 60/100\n",
            "399/399 [==============================] - 1s 2ms/step - loss: 2631.2437\n",
            "Epoch 61/100\n",
            "399/399 [==============================] - 1s 2ms/step - loss: 2631.2439\n",
            "Epoch 62/100\n",
            "399/399 [==============================] - 1s 2ms/step - loss: 2631.2427\n",
            "Epoch 63/100\n",
            "399/399 [==============================] - 1s 2ms/step - loss: 2631.2424\n",
            "Epoch 64/100\n",
            "399/399 [==============================] - 1s 2ms/step - loss: 2631.2417\n",
            "Epoch 65/100\n",
            "399/399 [==============================] - 1s 2ms/step - loss: 2631.2437\n",
            "Epoch 66/100\n",
            "399/399 [==============================] - 1s 2ms/step - loss: 2631.2419\n",
            "Epoch 67/100\n",
            "399/399 [==============================] - 1s 2ms/step - loss: 2631.2427\n",
            "Epoch 68/100\n",
            "399/399 [==============================] - 1s 2ms/step - loss: 2631.2417\n",
            "Epoch 69/100\n",
            "399/399 [==============================] - 1s 2ms/step - loss: 2631.2419\n",
            "Epoch 70/100\n",
            "399/399 [==============================] - 1s 2ms/step - loss: 2631.2434\n",
            "Epoch 71/100\n",
            "399/399 [==============================] - 1s 3ms/step - loss: 2631.2437\n",
            "Epoch 72/100\n",
            "399/399 [==============================] - 1s 3ms/step - loss: 2631.2434\n",
            "Epoch 73/100\n",
            "399/399 [==============================] - 1s 3ms/step - loss: 2631.2424\n",
            "Epoch 74/100\n",
            "399/399 [==============================] - 1s 3ms/step - loss: 2631.2424\n",
            "Epoch 75/100\n",
            "399/399 [==============================] - 1s 2ms/step - loss: 2631.2429\n",
            "Epoch 76/100\n",
            "399/399 [==============================] - 1s 2ms/step - loss: 2631.2424\n",
            "Epoch 77/100\n",
            "399/399 [==============================] - 1s 3ms/step - loss: 2631.2417\n",
            "Epoch 78/100\n",
            "399/399 [==============================] - 1s 3ms/step - loss: 2631.2415\n",
            "Epoch 79/100\n",
            "399/399 [==============================] - 1s 3ms/step - loss: 2631.2437\n",
            "Epoch 80/100\n",
            "399/399 [==============================] - 1s 2ms/step - loss: 2631.2422\n",
            "Epoch 81/100\n",
            "399/399 [==============================] - 1s 2ms/step - loss: 2631.2437\n",
            "Epoch 82/100\n",
            "399/399 [==============================] - 1s 2ms/step - loss: 2631.2429\n",
            "Epoch 83/100\n",
            "399/399 [==============================] - 1s 2ms/step - loss: 2631.2419\n",
            "Epoch 84/100\n",
            "399/399 [==============================] - 1s 2ms/step - loss: 2631.2427\n",
            "Epoch 85/100\n",
            "399/399 [==============================] - 1s 2ms/step - loss: 2631.2437\n",
            "Epoch 86/100\n",
            "399/399 [==============================] - 1s 2ms/step - loss: 2631.2434\n",
            "Epoch 87/100\n",
            "399/399 [==============================] - 1s 2ms/step - loss: 2631.2434\n",
            "Epoch 88/100\n",
            "399/399 [==============================] - 1s 2ms/step - loss: 2631.2432\n",
            "Epoch 89/100\n",
            "399/399 [==============================] - 1s 3ms/step - loss: 2631.2419\n",
            "Epoch 90/100\n",
            "399/399 [==============================] - 2s 5ms/step - loss: 2631.2424\n",
            "Epoch 91/100\n",
            "399/399 [==============================] - 2s 5ms/step - loss: 2631.2429\n",
            "Epoch 92/100\n",
            "399/399 [==============================] - 1s 3ms/step - loss: 2631.2429\n",
            "Epoch 93/100\n",
            "399/399 [==============================] - 1s 4ms/step - loss: 2631.2437\n",
            "Epoch 94/100\n",
            "399/399 [==============================] - 2s 4ms/step - loss: 2631.2427\n",
            "Epoch 95/100\n",
            "399/399 [==============================] - 2s 5ms/step - loss: 2631.2417\n",
            "Epoch 96/100\n",
            "399/399 [==============================] - 1s 2ms/step - loss: 2631.2427\n",
            "Epoch 97/100\n",
            "399/399 [==============================] - 1s 2ms/step - loss: 2631.2437\n",
            "Epoch 98/100\n",
            "399/399 [==============================] - 1s 2ms/step - loss: 2631.2429\n",
            "Epoch 99/100\n",
            "399/399 [==============================] - 1s 2ms/step - loss: 2631.2427\n",
            "Epoch 100/100\n",
            "399/399 [==============================] - 1s 3ms/step - loss: 2631.2429\n"
          ]
        },
        {
          "output_type": "execute_result",
          "data": {
            "text/plain": [
              "<keras.callbacks.History at 0x784deb486da0>"
            ]
          },
          "metadata": {},
          "execution_count": 22
        }
      ]
    },
    {
      "cell_type": "code",
      "source": [
        "# Predict\n",
        "trad = model.predict(X_train)"
      ],
      "metadata": {
        "colab": {
          "base_uri": "https://localhost:8080/"
        },
        "id": "1JaA1nmUnoUS",
        "outputId": "d3c2048c-0abc-4b87-dce9-66a7f9cf9d0c"
      },
      "execution_count": 23,
      "outputs": [
        {
          "output_type": "stream",
          "name": "stdout",
          "text": [
            "532/532 [==============================] - 1s 1ms/step\n"
          ]
        }
      ]
    }
  ]
}